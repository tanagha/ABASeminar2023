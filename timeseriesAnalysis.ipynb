{
 "cells": [
  {
   "cell_type": "code",
   "execution_count": 1,
   "metadata": {},
   "outputs": [],
   "source": [
    "import numpy as np\n",
    "import pandas as pd\n",
    "import tensorflow as tf\n",
    "from sklearn.model_selection import train_test_split\n",
    "from sklearn.preprocessing import MinMaxScaler"
   ]
  },
  {
   "cell_type": "code",
   "execution_count": 2,
   "metadata": {},
   "outputs": [
    {
     "name": "stderr",
     "output_type": "stream",
     "text": [
      "C:\\Users\\anagh\\AppData\\Local\\Temp\\ipykernel_20000\\2436532329.py:4: UserWarning: Could not infer format, so each element will be parsed individually, falling back to `dateutil`. To ensure parsing is consistent and as-expected, please specify a format.\n",
      "  data.index = pd.to_datetime(data['QuarterYear'])\n"
     ]
    },
    {
     "data": {
      "text/html": [
       "<div>\n",
       "<style scoped>\n",
       "    .dataframe tbody tr th:only-of-type {\n",
       "        vertical-align: middle;\n",
       "    }\n",
       "\n",
       "    .dataframe tbody tr th {\n",
       "        vertical-align: top;\n",
       "    }\n",
       "\n",
       "    .dataframe thead th {\n",
       "        text-align: right;\n",
       "    }\n",
       "</style>\n",
       "<table border=\"1\" class=\"dataframe\">\n",
       "  <thead>\n",
       "    <tr style=\"text-align: right;\">\n",
       "      <th></th>\n",
       "      <th>outdegree</th>\n",
       "      <th>katz</th>\n",
       "      <th>clustering</th>\n",
       "      <th>dir_clustering</th>\n",
       "      <th>w_clustering</th>\n",
       "      <th>weight_dir_clustering</th>\n",
       "      <th>undirected_betweenness</th>\n",
       "      <th>undirected_Weighted_betweenness</th>\n",
       "      <th>Number of Deals</th>\n",
       "      <th>Total Deal Value</th>\n",
       "    </tr>\n",
       "    <tr>\n",
       "      <th>QuarterYear</th>\n",
       "      <th></th>\n",
       "      <th></th>\n",
       "      <th></th>\n",
       "      <th></th>\n",
       "      <th></th>\n",
       "      <th></th>\n",
       "      <th></th>\n",
       "      <th></th>\n",
       "      <th></th>\n",
       "      <th></th>\n",
       "    </tr>\n",
       "  </thead>\n",
       "  <tbody>\n",
       "    <tr>\n",
       "      <th>2003-01-01</th>\n",
       "      <td>0.002752</td>\n",
       "      <td>0.028476</td>\n",
       "      <td>0.0</td>\n",
       "      <td>0.0</td>\n",
       "      <td>0.0</td>\n",
       "      <td>0.0</td>\n",
       "      <td>0.000008</td>\n",
       "      <td>0.000008</td>\n",
       "      <td>0.0</td>\n",
       "      <td>0.00</td>\n",
       "    </tr>\n",
       "    <tr>\n",
       "      <th>2003-04-01</th>\n",
       "      <td>0.002577</td>\n",
       "      <td>0.027538</td>\n",
       "      <td>0.0</td>\n",
       "      <td>0.0</td>\n",
       "      <td>0.0</td>\n",
       "      <td>0.0</td>\n",
       "      <td>0.000007</td>\n",
       "      <td>0.000007</td>\n",
       "      <td>0.0</td>\n",
       "      <td>0.00</td>\n",
       "    </tr>\n",
       "    <tr>\n",
       "      <th>2003-07-01</th>\n",
       "      <td>0.002427</td>\n",
       "      <td>0.026700</td>\n",
       "      <td>0.0</td>\n",
       "      <td>0.0</td>\n",
       "      <td>0.0</td>\n",
       "      <td>0.0</td>\n",
       "      <td>0.000007</td>\n",
       "      <td>0.000007</td>\n",
       "      <td>0.0</td>\n",
       "      <td>0.00</td>\n",
       "    </tr>\n",
       "    <tr>\n",
       "      <th>2003-10-01</th>\n",
       "      <td>0.003019</td>\n",
       "      <td>0.025767</td>\n",
       "      <td>0.0</td>\n",
       "      <td>0.0</td>\n",
       "      <td>0.0</td>\n",
       "      <td>0.0</td>\n",
       "      <td>0.000010</td>\n",
       "      <td>0.000010</td>\n",
       "      <td>1.0</td>\n",
       "      <td>1078.28</td>\n",
       "    </tr>\n",
       "    <tr>\n",
       "      <th>2004-01-01</th>\n",
       "      <td>0.002863</td>\n",
       "      <td>0.025063</td>\n",
       "      <td>0.0</td>\n",
       "      <td>0.0</td>\n",
       "      <td>0.0</td>\n",
       "      <td>0.0</td>\n",
       "      <td>0.000009</td>\n",
       "      <td>0.000009</td>\n",
       "      <td>0.0</td>\n",
       "      <td>0.00</td>\n",
       "    </tr>\n",
       "  </tbody>\n",
       "</table>\n",
       "</div>"
      ],
      "text/plain": [
       "             outdegree      katz  clustering  dir_clustering  w_clustering  \\\n",
       "QuarterYear                                                                  \n",
       "2003-01-01    0.002752  0.028476         0.0             0.0           0.0   \n",
       "2003-04-01    0.002577  0.027538         0.0             0.0           0.0   \n",
       "2003-07-01    0.002427  0.026700         0.0             0.0           0.0   \n",
       "2003-10-01    0.003019  0.025767         0.0             0.0           0.0   \n",
       "2004-01-01    0.002863  0.025063         0.0             0.0           0.0   \n",
       "\n",
       "             weight_dir_clustering  undirected_betweenness  \\\n",
       "QuarterYear                                                  \n",
       "2003-01-01                     0.0                0.000008   \n",
       "2003-04-01                     0.0                0.000007   \n",
       "2003-07-01                     0.0                0.000007   \n",
       "2003-10-01                     0.0                0.000010   \n",
       "2004-01-01                     0.0                0.000009   \n",
       "\n",
       "             undirected_Weighted_betweenness  Number of Deals  \\\n",
       "QuarterYear                                                     \n",
       "2003-01-01                          0.000008              0.0   \n",
       "2003-04-01                          0.000007              0.0   \n",
       "2003-07-01                          0.000007              0.0   \n",
       "2003-10-01                          0.000010              1.0   \n",
       "2004-01-01                          0.000009              0.0   \n",
       "\n",
       "             Total Deal Value  \n",
       "QuarterYear                    \n",
       "2003-01-01               0.00  \n",
       "2003-04-01               0.00  \n",
       "2003-07-01               0.00  \n",
       "2003-10-01            1078.28  \n",
       "2004-01-01               0.00  "
      ]
     },
     "execution_count": 2,
     "metadata": {},
     "output_type": "execute_result"
    }
   ],
   "source": [
    "# Assuming the CSV file containing the data is named \"data.csv\"\n",
    "buyername = \"buyerIQ162270\"\n",
    "data = pd.read_csv('data/final_data/' + buyername + '.csv')\n",
    "data.index = pd.to_datetime(data['QuarterYear'])\n",
    "data = data.drop(columns=['node','QuarterYear'], axis=1)\n",
    "data.head()"
   ]
  },
  {
   "cell_type": "code",
   "execution_count": 3,
   "metadata": {},
   "outputs": [],
   "source": [
    "\n",
    "# Separate features and target\n",
    "X = data.iloc[:, :-2]  # Features (network metrics)\n",
    "y1 = data.iloc[:, -1]   # Target (value of deals)\n",
    "y2 = data.iloc[:, -2]   # Targert(number of deals)\n",
    "\n",
    "# Convert target to binary values (0 or 1)\n",
    "y_binary = np.where(y2 > 0, 1, 0)\n",
    "\n",
    "# Scale the features to a range between 0 and 1\n",
    "scaler = MinMaxScaler()\n",
    "X_scaled = scaler.fit_transform(X)\n"
   ]
  },
  {
   "cell_type": "code",
   "execution_count": 4,
   "metadata": {},
   "outputs": [],
   "source": [
    "# Assuming you have data from Q1 2010 to Q4 2022\n",
    "train_size = int(len(X_scaled) * 0.8)  # Use 80% of the data for training\n",
    "X_train, X_test = X_scaled[:train_size], X_scaled[train_size:]\n",
    "y_train, y_test = y_binary[:train_size], y_binary[train_size:]\n"
   ]
  },
  {
   "cell_type": "code",
   "execution_count": 5,
   "metadata": {},
   "outputs": [],
   "source": [
    "# Define the window size (number of previous quarters to consider)\n",
    "window_size = 4\n",
    "\n",
    "# Function to create sequences\n",
    "def create_sequences(X, y, window_size):\n",
    "    X_seq, y_seq = [], []\n",
    "    for i in range(len(X) - window_size):\n",
    "        X_seq.append(X[i:i+window_size])\n",
    "        y_seq.append(y[i+window_size])\n",
    "    return np.array(X_seq), np.array(y_seq)\n",
    "\n",
    "# Create sequences for training and testing data\n",
    "X_train_seq, y_train_seq = create_sequences(X_train, y_train, window_size)\n",
    "X_test_seq, y_test_seq = create_sequences(X_test, y_test, window_size)\n"
   ]
  },
  {
   "cell_type": "code",
   "execution_count": 6,
   "metadata": {},
   "outputs": [],
   "source": [
    "model = tf.keras.Sequential([\n",
    "    tf.keras.layers.LSTM(64, input_shape=(window_size, X_train_seq.shape[2])),\n",
    "    tf.keras.layers.Dense(32, activation='relu'),\n",
    "    tf.keras.layers.Dense(1, activation='sigmoid')  # Using sigmoid activation for binary classification\n",
    "])\n",
    "\n",
    "model.compile(loss='binary_crossentropy', optimizer='adam', metrics=['accuracy'])\n",
    "\n"
   ]
  },
  {
   "cell_type": "code",
   "execution_count": 7,
   "metadata": {},
   "outputs": [
    {
     "name": "stdout",
     "output_type": "stream",
     "text": [
      "Epoch 1/100\n",
      "3/3 [==============================] - 9s 1s/step - loss: 0.6923 - accuracy: 0.5600 - val_loss: 0.6748 - val_accuracy: 0.8333\n",
      "Epoch 2/100\n",
      "3/3 [==============================] - 0s 70ms/step - loss: 0.6897 - accuracy: 0.5800 - val_loss: 0.6621 - val_accuracy: 0.8333\n",
      "Epoch 3/100\n",
      "3/3 [==============================] - 0s 45ms/step - loss: 0.6861 - accuracy: 0.5800 - val_loss: 0.6519 - val_accuracy: 0.8333\n",
      "Epoch 4/100\n",
      "3/3 [==============================] - 0s 45ms/step - loss: 0.6854 - accuracy: 0.5800 - val_loss: 0.6398 - val_accuracy: 0.8333\n",
      "Epoch 5/100\n",
      "3/3 [==============================] - 0s 55ms/step - loss: 0.6828 - accuracy: 0.5800 - val_loss: 0.6313 - val_accuracy: 0.8333\n",
      "Epoch 6/100\n",
      "3/3 [==============================] - 0s 57ms/step - loss: 0.6812 - accuracy: 0.5800 - val_loss: 0.6239 - val_accuracy: 0.8333\n",
      "Epoch 7/100\n",
      "3/3 [==============================] - 0s 57ms/step - loss: 0.6799 - accuracy: 0.5800 - val_loss: 0.6168 - val_accuracy: 0.8333\n",
      "Epoch 8/100\n",
      "3/3 [==============================] - 0s 65ms/step - loss: 0.6791 - accuracy: 0.5800 - val_loss: 0.6107 - val_accuracy: 0.8333\n",
      "Epoch 9/100\n",
      "3/3 [==============================] - 0s 58ms/step - loss: 0.6783 - accuracy: 0.5800 - val_loss: 0.6045 - val_accuracy: 0.8333\n",
      "Epoch 10/100\n",
      "3/3 [==============================] - 0s 57ms/step - loss: 0.6783 - accuracy: 0.5800 - val_loss: 0.5997 - val_accuracy: 0.8333\n",
      "Epoch 11/100\n",
      "3/3 [==============================] - 0s 57ms/step - loss: 0.6778 - accuracy: 0.5800 - val_loss: 0.5914 - val_accuracy: 0.8333\n",
      "Epoch 12/100\n",
      "3/3 [==============================] - 0s 62ms/step - loss: 0.6777 - accuracy: 0.5800 - val_loss: 0.5842 - val_accuracy: 0.8333\n",
      "Epoch 13/100\n",
      "3/3 [==============================] - 0s 59ms/step - loss: 0.6774 - accuracy: 0.5800 - val_loss: 0.5813 - val_accuracy: 0.8333\n",
      "Epoch 14/100\n",
      "3/3 [==============================] - 0s 58ms/step - loss: 0.6776 - accuracy: 0.5800 - val_loss: 0.5794 - val_accuracy: 0.8333\n",
      "Epoch 15/100\n",
      "3/3 [==============================] - 0s 58ms/step - loss: 0.6775 - accuracy: 0.5800 - val_loss: 0.5777 - val_accuracy: 0.8333\n",
      "Epoch 16/100\n",
      "3/3 [==============================] - 0s 53ms/step - loss: 0.6774 - accuracy: 0.5800 - val_loss: 0.5772 - val_accuracy: 0.8333\n",
      "Epoch 17/100\n",
      "3/3 [==============================] - 0s 50ms/step - loss: 0.6773 - accuracy: 0.5800 - val_loss: 0.5766 - val_accuracy: 0.8333\n",
      "Epoch 18/100\n",
      "3/3 [==============================] - 0s 48ms/step - loss: 0.6770 - accuracy: 0.5800 - val_loss: 0.5810 - val_accuracy: 0.8333\n",
      "Epoch 19/100\n",
      "3/3 [==============================] - 0s 54ms/step - loss: 0.6763 - accuracy: 0.5800 - val_loss: 0.5844 - val_accuracy: 0.8333\n",
      "Epoch 20/100\n",
      "3/3 [==============================] - 0s 54ms/step - loss: 0.6764 - accuracy: 0.5800 - val_loss: 0.5904 - val_accuracy: 0.8333\n",
      "Epoch 21/100\n",
      "3/3 [==============================] - 0s 54ms/step - loss: 0.6767 - accuracy: 0.5800 - val_loss: 0.5951 - val_accuracy: 0.8333\n",
      "Epoch 22/100\n",
      "3/3 [==============================] - 0s 55ms/step - loss: 0.6762 - accuracy: 0.5800 - val_loss: 0.5960 - val_accuracy: 0.8333\n",
      "Epoch 23/100\n",
      "3/3 [==============================] - 0s 53ms/step - loss: 0.6757 - accuracy: 0.5800 - val_loss: 0.5929 - val_accuracy: 0.8333\n",
      "Epoch 24/100\n",
      "3/3 [==============================] - 0s 57ms/step - loss: 0.6756 - accuracy: 0.5800 - val_loss: 0.5916 - val_accuracy: 0.8333\n",
      "Epoch 25/100\n",
      "3/3 [==============================] - 0s 53ms/step - loss: 0.6759 - accuracy: 0.5800 - val_loss: 0.5886 - val_accuracy: 0.8333\n",
      "Epoch 26/100\n",
      "3/3 [==============================] - 0s 57ms/step - loss: 0.6755 - accuracy: 0.5800 - val_loss: 0.5889 - val_accuracy: 0.8333\n",
      "Epoch 27/100\n",
      "3/3 [==============================] - 0s 53ms/step - loss: 0.6753 - accuracy: 0.5800 - val_loss: 0.5918 - val_accuracy: 0.8333\n",
      "Epoch 28/100\n",
      "3/3 [==============================] - 0s 58ms/step - loss: 0.6754 - accuracy: 0.5800 - val_loss: 0.5930 - val_accuracy: 0.8333\n",
      "Epoch 29/100\n",
      "3/3 [==============================] - 0s 54ms/step - loss: 0.6755 - accuracy: 0.5800 - val_loss: 0.5941 - val_accuracy: 0.8333\n",
      "Epoch 30/100\n",
      "3/3 [==============================] - 0s 43ms/step - loss: 0.6751 - accuracy: 0.5800 - val_loss: 0.5921 - val_accuracy: 0.8333\n",
      "Epoch 31/100\n",
      "3/3 [==============================] - 0s 45ms/step - loss: 0.6750 - accuracy: 0.5800 - val_loss: 0.5904 - val_accuracy: 0.8333\n",
      "Epoch 32/100\n",
      "3/3 [==============================] - 0s 37ms/step - loss: 0.6748 - accuracy: 0.5800 - val_loss: 0.5873 - val_accuracy: 0.8333\n",
      "Epoch 33/100\n",
      "3/3 [==============================] - 0s 54ms/step - loss: 0.6748 - accuracy: 0.5800 - val_loss: 0.5836 - val_accuracy: 0.8333\n",
      "Epoch 34/100\n",
      "3/3 [==============================] - 0s 53ms/step - loss: 0.6756 - accuracy: 0.5800 - val_loss: 0.5809 - val_accuracy: 0.8333\n",
      "Epoch 35/100\n",
      "3/3 [==============================] - 0s 59ms/step - loss: 0.6748 - accuracy: 0.5800 - val_loss: 0.5828 - val_accuracy: 0.8333\n",
      "Epoch 36/100\n",
      "3/3 [==============================] - 0s 53ms/step - loss: 0.6746 - accuracy: 0.5800 - val_loss: 0.5864 - val_accuracy: 0.8333\n",
      "Epoch 37/100\n",
      "3/3 [==============================] - 0s 52ms/step - loss: 0.6743 - accuracy: 0.5800 - val_loss: 0.5882 - val_accuracy: 0.8333\n",
      "Epoch 38/100\n",
      "3/3 [==============================] - 0s 45ms/step - loss: 0.6746 - accuracy: 0.5800 - val_loss: 0.5906 - val_accuracy: 0.8333\n",
      "Epoch 39/100\n",
      "3/3 [==============================] - 0s 48ms/step - loss: 0.6744 - accuracy: 0.5800 - val_loss: 0.5887 - val_accuracy: 0.8333\n",
      "Epoch 40/100\n",
      "3/3 [==============================] - 0s 57ms/step - loss: 0.6746 - accuracy: 0.5800 - val_loss: 0.5897 - val_accuracy: 0.8333\n",
      "Epoch 41/100\n",
      "3/3 [==============================] - 0s 49ms/step - loss: 0.6746 - accuracy: 0.5800 - val_loss: 0.5874 - val_accuracy: 0.8333\n",
      "Epoch 42/100\n",
      "3/3 [==============================] - 0s 45ms/step - loss: 0.6741 - accuracy: 0.5800 - val_loss: 0.5884 - val_accuracy: 0.8333\n",
      "Epoch 43/100\n",
      "3/3 [==============================] - 0s 53ms/step - loss: 0.6737 - accuracy: 0.5800 - val_loss: 0.5861 - val_accuracy: 0.8333\n",
      "Epoch 44/100\n",
      "3/3 [==============================] - 0s 55ms/step - loss: 0.6735 - accuracy: 0.5800 - val_loss: 0.5839 - val_accuracy: 0.8333\n",
      "Epoch 45/100\n",
      "3/3 [==============================] - 0s 50ms/step - loss: 0.6745 - accuracy: 0.5800 - val_loss: 0.5787 - val_accuracy: 0.8333\n",
      "Epoch 46/100\n",
      "3/3 [==============================] - 0s 48ms/step - loss: 0.6737 - accuracy: 0.5800 - val_loss: 0.5796 - val_accuracy: 0.8333\n",
      "Epoch 47/100\n",
      "3/3 [==============================] - 0s 53ms/step - loss: 0.6739 - accuracy: 0.5800 - val_loss: 0.5770 - val_accuracy: 0.8333\n",
      "Epoch 48/100\n",
      "3/3 [==============================] - 0s 52ms/step - loss: 0.6738 - accuracy: 0.5800 - val_loss: 0.5807 - val_accuracy: 0.8333\n",
      "Epoch 49/100\n",
      "3/3 [==============================] - 0s 39ms/step - loss: 0.6731 - accuracy: 0.5800 - val_loss: 0.5795 - val_accuracy: 0.8333\n",
      "Epoch 50/100\n",
      "3/3 [==============================] - 0s 57ms/step - loss: 0.6736 - accuracy: 0.5800 - val_loss: 0.5769 - val_accuracy: 0.8333\n",
      "Epoch 51/100\n",
      "3/3 [==============================] - 0s 57ms/step - loss: 0.6732 - accuracy: 0.5800 - val_loss: 0.5808 - val_accuracy: 0.8333\n",
      "Epoch 52/100\n",
      "3/3 [==============================] - 0s 54ms/step - loss: 0.6730 - accuracy: 0.5800 - val_loss: 0.5812 - val_accuracy: 0.8333\n",
      "Epoch 53/100\n",
      "3/3 [==============================] - 0s 54ms/step - loss: 0.6727 - accuracy: 0.5800 - val_loss: 0.5842 - val_accuracy: 0.8333\n",
      "Epoch 54/100\n",
      "3/3 [==============================] - 0s 49ms/step - loss: 0.6727 - accuracy: 0.5800 - val_loss: 0.5852 - val_accuracy: 0.8333\n",
      "Epoch 55/100\n",
      "3/3 [==============================] - 0s 58ms/step - loss: 0.6730 - accuracy: 0.5800 - val_loss: 0.5884 - val_accuracy: 0.8333\n",
      "Epoch 56/100\n",
      "3/3 [==============================] - 0s 53ms/step - loss: 0.6731 - accuracy: 0.5800 - val_loss: 0.5919 - val_accuracy: 0.8333\n",
      "Epoch 57/100\n",
      "3/3 [==============================] - 0s 58ms/step - loss: 0.6725 - accuracy: 0.5800 - val_loss: 0.5924 - val_accuracy: 0.8333\n",
      "Epoch 58/100\n",
      "3/3 [==============================] - 0s 60ms/step - loss: 0.6731 - accuracy: 0.5800 - val_loss: 0.5920 - val_accuracy: 0.8333\n",
      "Epoch 59/100\n",
      "3/3 [==============================] - 0s 62ms/step - loss: 0.6731 - accuracy: 0.5800 - val_loss: 0.5963 - val_accuracy: 0.8333\n",
      "Epoch 60/100\n",
      "3/3 [==============================] - 0s 62ms/step - loss: 0.6727 - accuracy: 0.5800 - val_loss: 0.5946 - val_accuracy: 0.8333\n",
      "Epoch 61/100\n",
      "3/3 [==============================] - 0s 83ms/step - loss: 0.6731 - accuracy: 0.5800 - val_loss: 0.5938 - val_accuracy: 0.8333\n",
      "Epoch 62/100\n",
      "3/3 [==============================] - 0s 53ms/step - loss: 0.6720 - accuracy: 0.5800 - val_loss: 0.5872 - val_accuracy: 0.8333\n",
      "Epoch 63/100\n",
      "3/3 [==============================] - 0s 61ms/step - loss: 0.6719 - accuracy: 0.5800 - val_loss: 0.5795 - val_accuracy: 0.8333\n",
      "Epoch 64/100\n",
      "3/3 [==============================] - 0s 62ms/step - loss: 0.6715 - accuracy: 0.5800 - val_loss: 0.5759 - val_accuracy: 0.8333\n",
      "Epoch 65/100\n",
      "3/3 [==============================] - 0s 52ms/step - loss: 0.6718 - accuracy: 0.5800 - val_loss: 0.5671 - val_accuracy: 0.8333\n",
      "Epoch 66/100\n",
      "3/3 [==============================] - 0s 53ms/step - loss: 0.6718 - accuracy: 0.5800 - val_loss: 0.5646 - val_accuracy: 0.8333\n",
      "Epoch 67/100\n",
      "3/3 [==============================] - 0s 57ms/step - loss: 0.6715 - accuracy: 0.5800 - val_loss: 0.5612 - val_accuracy: 0.8333\n",
      "Epoch 68/100\n",
      "3/3 [==============================] - 0s 49ms/step - loss: 0.6713 - accuracy: 0.5800 - val_loss: 0.5607 - val_accuracy: 0.8333\n",
      "Epoch 69/100\n",
      "3/3 [==============================] - 0s 54ms/step - loss: 0.6713 - accuracy: 0.5800 - val_loss: 0.5616 - val_accuracy: 0.8333\n",
      "Epoch 70/100\n",
      "3/3 [==============================] - 0s 54ms/step - loss: 0.6711 - accuracy: 0.5800 - val_loss: 0.5611 - val_accuracy: 0.8333\n",
      "Epoch 71/100\n",
      "3/3 [==============================] - 0s 62ms/step - loss: 0.6709 - accuracy: 0.5800 - val_loss: 0.5628 - val_accuracy: 0.8333\n",
      "Epoch 72/100\n",
      "3/3 [==============================] - 0s 57ms/step - loss: 0.6709 - accuracy: 0.5800 - val_loss: 0.5654 - val_accuracy: 0.8333\n",
      "Epoch 73/100\n",
      "3/3 [==============================] - 0s 51ms/step - loss: 0.6701 - accuracy: 0.5800 - val_loss: 0.5715 - val_accuracy: 0.8333\n",
      "Epoch 74/100\n",
      "3/3 [==============================] - 0s 51ms/step - loss: 0.6702 - accuracy: 0.5800 - val_loss: 0.5762 - val_accuracy: 0.8333\n",
      "Epoch 75/100\n",
      "3/3 [==============================] - 0s 45ms/step - loss: 0.6717 - accuracy: 0.5800 - val_loss: 0.5799 - val_accuracy: 0.8333\n",
      "Epoch 76/100\n",
      "3/3 [==============================] - 0s 49ms/step - loss: 0.6710 - accuracy: 0.5800 - val_loss: 0.5745 - val_accuracy: 0.8333\n",
      "Epoch 77/100\n",
      "3/3 [==============================] - 0s 53ms/step - loss: 0.6701 - accuracy: 0.5800 - val_loss: 0.5692 - val_accuracy: 0.8333\n",
      "Epoch 78/100\n",
      "3/3 [==============================] - 0s 58ms/step - loss: 0.6704 - accuracy: 0.5800 - val_loss: 0.5678 - val_accuracy: 0.8333\n",
      "Epoch 79/100\n",
      "3/3 [==============================] - 0s 58ms/step - loss: 0.6706 - accuracy: 0.5800 - val_loss: 0.5585 - val_accuracy: 0.8333\n",
      "Epoch 80/100\n",
      "3/3 [==============================] - 0s 58ms/step - loss: 0.6698 - accuracy: 0.5800 - val_loss: 0.5540 - val_accuracy: 0.8333\n",
      "Epoch 81/100\n",
      "3/3 [==============================] - 0s 58ms/step - loss: 0.6707 - accuracy: 0.5800 - val_loss: 0.5488 - val_accuracy: 0.8333\n",
      "Epoch 82/100\n",
      "3/3 [==============================] - 0s 57ms/step - loss: 0.6700 - accuracy: 0.5800 - val_loss: 0.5543 - val_accuracy: 0.8333\n",
      "Epoch 83/100\n",
      "3/3 [==============================] - 0s 53ms/step - loss: 0.6687 - accuracy: 0.5800 - val_loss: 0.5604 - val_accuracy: 0.8333\n",
      "Epoch 84/100\n",
      "3/3 [==============================] - 0s 55ms/step - loss: 0.6697 - accuracy: 0.5800 - val_loss: 0.5708 - val_accuracy: 0.8333\n",
      "Epoch 85/100\n",
      "3/3 [==============================] - 0s 57ms/step - loss: 0.6690 - accuracy: 0.5800 - val_loss: 0.5737 - val_accuracy: 0.8333\n",
      "Epoch 86/100\n",
      "3/3 [==============================] - 0s 56ms/step - loss: 0.6700 - accuracy: 0.5800 - val_loss: 0.5775 - val_accuracy: 0.8333\n",
      "Epoch 87/100\n",
      "3/3 [==============================] - 0s 58ms/step - loss: 0.6692 - accuracy: 0.5800 - val_loss: 0.5715 - val_accuracy: 0.8333\n",
      "Epoch 88/100\n",
      "3/3 [==============================] - 0s 49ms/step - loss: 0.6688 - accuracy: 0.5800 - val_loss: 0.5649 - val_accuracy: 0.8333\n",
      "Epoch 89/100\n",
      "3/3 [==============================] - 0s 41ms/step - loss: 0.6705 - accuracy: 0.5800 - val_loss: 0.5491 - val_accuracy: 0.8333\n",
      "Epoch 90/100\n",
      "3/3 [==============================] - 0s 45ms/step - loss: 0.6706 - accuracy: 0.5800 - val_loss: 0.5441 - val_accuracy: 0.8333\n",
      "Epoch 91/100\n",
      "3/3 [==============================] - 0s 49ms/step - loss: 0.6684 - accuracy: 0.5800 - val_loss: 0.5478 - val_accuracy: 0.8333\n",
      "Epoch 92/100\n",
      "3/3 [==============================] - 0s 53ms/step - loss: 0.6695 - accuracy: 0.5800 - val_loss: 0.5543 - val_accuracy: 0.8333\n",
      "Epoch 93/100\n",
      "3/3 [==============================] - 0s 58ms/step - loss: 0.6682 - accuracy: 0.5800 - val_loss: 0.5537 - val_accuracy: 0.8333\n",
      "Epoch 94/100\n",
      "3/3 [==============================] - 0s 53ms/step - loss: 0.6683 - accuracy: 0.5800 - val_loss: 0.5546 - val_accuracy: 0.8333\n",
      "Epoch 95/100\n",
      "3/3 [==============================] - 0s 53ms/step - loss: 0.6673 - accuracy: 0.5800 - val_loss: 0.5628 - val_accuracy: 0.8333\n",
      "Epoch 96/100\n",
      "3/3 [==============================] - 0s 58ms/step - loss: 0.6671 - accuracy: 0.5800 - val_loss: 0.5686 - val_accuracy: 0.8333\n",
      "Epoch 97/100\n",
      "3/3 [==============================] - 0s 53ms/step - loss: 0.6685 - accuracy: 0.5800 - val_loss: 0.5738 - val_accuracy: 0.8333\n",
      "Epoch 98/100\n",
      "3/3 [==============================] - 0s 54ms/step - loss: 0.6676 - accuracy: 0.5800 - val_loss: 0.5701 - val_accuracy: 0.8333\n",
      "Epoch 99/100\n",
      "3/3 [==============================] - 0s 53ms/step - loss: 0.6671 - accuracy: 0.5800 - val_loss: 0.5652 - val_accuracy: 0.8333\n",
      "Epoch 100/100\n",
      "3/3 [==============================] - 0s 53ms/step - loss: 0.6664 - accuracy: 0.5800 - val_loss: 0.5594 - val_accuracy: 0.8333\n"
     ]
    }
   ],
   "source": [
    "# Assuming you have 50 epochs and a batch size of 32\n",
    "epochs = 100\n",
    "batch_size = 20\n",
    "\n",
    "history = model.fit(X_train_seq, y_train_seq, epochs=epochs, batch_size=batch_size, validation_split=0.1)\n"
   ]
  },
  {
   "cell_type": "code",
   "execution_count": 8,
   "metadata": {},
   "outputs": [
    {
     "name": "stdout",
     "output_type": "stream",
     "text": [
      "1/1 [==============================] - 0s 74ms/step - loss: 0.6714 - accuracy: 0.5833\n",
      "Test loss: 0.6714\n",
      "Test accuracy: 0.5833\n"
     ]
    }
   ],
   "source": [
    "# Evaluate the model on the test set\n",
    "loss, accuracy = model.evaluate(X_test_seq, y_test_seq)\n",
    "\n",
    "print(f'Test loss: {loss:.4f}')\n",
    "print(f'Test accuracy: {accuracy:.4f}')\n"
   ]
  },
  {
   "cell_type": "code",
   "execution_count": 9,
   "metadata": {},
   "outputs": [
    {
     "data": {
      "image/png": "[encoded data removed]",
      "text/plain": [
       "<Figure size 640x480 with 1 Axes>"
      ]
     },
     "metadata": {},
     "output_type": "display_data"
    },
    {
     "data": {
      "image/png": "[encoded data removed]",
      "text/plain": [
       "<Figure size 640x480 with 1 Axes>"
      ]
     },
     "metadata": {},
     "output_type": "display_data"
    }
   ],
   "source": [
    "import matplotlib.pyplot as plt\n",
    "\n",
    "# Plot training and validation loss\n",
    "plt.plot(history.history['loss'], label='Training Loss')\n",
    "plt.plot(history.history['val_loss'], label='Validation Loss')\n",
    "plt.axhline(y=loss, color= 'g', label = 'Testing Loss')\n",
    "plt.title(\"Loss chart: \" + buyername)\n",
    "plt.xlabel('Epoch')\n",
    "plt.ylabel('Loss')\n",
    "plt.legend()\n",
    "plt.savefig('data/plots/loss_chart_' + buyername + '.png')\n",
    "plt.show()\n",
    "\n",
    "\n",
    "# Plot training and validation accuracy\n",
    "plt.plot(history.history['accuracy'], label='Training Accuracy')\n",
    "plt.plot(history.history['val_accuracy'], label='Validation Accuracy')\n",
    "plt.axhline(y=accuracy, color='g', label = 'Testing Accuracy')\n",
    "plt.title(\"Accuracy chart: \"+ buyername)\n",
    "plt.xlabel('Epoch')\n",
    "plt.ylabel('Accuracy')\n",
    "plt.legend()\n",
    "plt.savefig('data/plots/accuracy_chart_'+ buyername+  '.png')\n",
    "plt.show()\n",
    "\n"
   ]
  },
  {
   "cell_type": "code",
   "execution_count": 10,
   "metadata": {},
   "outputs": [
    {
     "name": "stdout",
     "output_type": "stream",
     "text": [
      "1/1 [==============================] - 1s 1s/step\n"
     ]
    }
   ],
   "source": [
    "y_pred_test = model.predict(X_test_seq)"
   ]
  },
  {
   "cell_type": "code",
   "execution_count": 11,
   "metadata": {},
   "outputs": [],
   "source": [
    "y_pred_labels = np.argmax(y_pred_test, axis=-1)"
   ]
  },
  {
   "cell_type": "code",
   "execution_count": 12,
   "metadata": {},
   "outputs": [
    {
     "name": "stdout",
     "output_type": "stream",
     "text": [
      "Confusion Matrix:\n",
      "[[7 0]\n",
      " [5 0]]\n"
     ]
    }
   ],
   "source": [
    "from sklearn.metrics import confusion_matrix, ConfusionMatrixDisplay\n",
    "# Now, calculate the confusion matrix\n",
    "cm = confusion_matrix(y_test_seq, y_pred_labels)\n",
    "\n",
    "print(\"Confusion Matrix:\")\n",
    "print(cm)"
   ]
  },
  {
   "cell_type": "code",
   "execution_count": 13,
   "metadata": {},
   "outputs": [
    {
     "name": "stdout",
     "output_type": "stream",
     "text": [
      "[1 1 1 0 0 0 0 0 0 0 1 1]\n",
      "[0 0 0 0 0 0 0 0 0 0 0 0]\n"
     ]
    }
   ],
   "source": [
    "print(y_test_seq)\n",
    "print(y_pred_labels)"
   ]
  },
  {
   "cell_type": "code",
   "execution_count": 14,
   "metadata": {},
   "outputs": [
    {
     "data": {
      "image/png": "[encoded data removed]",
      "text/plain": [
       "<Figure size 640x480 with 2 Axes>"
      ]
     },
     "metadata": {},
     "output_type": "display_data"
    }
   ],
   "source": [
    "ConfusionMatrixDisplay(cm).plot()\n",
    "plt.savefig('data/plots/cm_' + buyername + '.png')"
   ]
  },
  {
   "cell_type": "code",
   "execution_count": null,
   "metadata": {},
   "outputs": [],
   "source": []
  }
 ],
 "metadata": {
  "kernelspec": {
   "display_name": "seminarEnv",
   "language": "python",
   "name": "python3"
  },
  "language_info": {
   "codemirror_mode": {
    "name": "ipython",
    "version": 3
   },
   "file_extension": ".py",
   "mimetype": "text/x-python",
   "name": "python",
   "nbconvert_exporter": "python",
   "pygments_lexer": "ipython3",
   "version": "3.10.0"
  },
  "orig_nbformat": 4
 },
 "nbformat": 4,
 "nbformat_minor": 2
}
