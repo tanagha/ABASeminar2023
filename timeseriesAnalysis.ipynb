{
 "cells": [
  {
   "cell_type": "code",
   "execution_count": 1,
   "metadata": {},
   "outputs": [],
   "source": [
    "import numpy as np\n",
    "import pandas as pd\n",
    "import tensorflow as tf\n",
    "from sklearn.model_selection import train_test_split\n",
    "from sklearn.preprocessing import MinMaxScaler"
   ]
  },
  {
   "cell_type": "code",
   "execution_count": 2,
   "metadata": {},
   "outputs": [
    {
     "name": "stderr",
     "output_type": "stream",
     "text": [
      "C:\\Users\\anagh\\AppData\\Local\\Temp\\ipykernel_24136\\3199082811.py:4: UserWarning: Could not infer format, so each element will be parsed individually, falling back to `dateutil`. To ensure parsing is consistent and as-expected, please specify a format.\n",
      "  data.index = pd.to_datetime(data['QuarterYear'])\n"
     ]
    },
    {
     "data": {
      "text/html": [
       "<div>\n",
       "<style scoped>\n",
       "    .dataframe tbody tr th:only-of-type {\n",
       "        vertical-align: middle;\n",
       "    }\n",
       "\n",
       "    .dataframe tbody tr th {\n",
       "        vertical-align: top;\n",
       "    }\n",
       "\n",
       "    .dataframe thead th {\n",
       "        text-align: right;\n",
       "    }\n",
       "</style>\n",
       "<table border=\"1\" class=\"dataframe\">\n",
       "  <thead>\n",
       "    <tr style=\"text-align: right;\">\n",
       "      <th></th>\n",
       "      <th>outdegree</th>\n",
       "      <th>katz</th>\n",
       "      <th>undirected_betweenness</th>\n",
       "      <th>undirected_Weighted_betweenness</th>\n",
       "      <th>Number of Deals</th>\n",
       "      <th>Total Deal Value</th>\n",
       "    </tr>\n",
       "    <tr>\n",
       "      <th>QuarterYear</th>\n",
       "      <th></th>\n",
       "      <th></th>\n",
       "      <th></th>\n",
       "      <th></th>\n",
       "      <th></th>\n",
       "      <th></th>\n",
       "    </tr>\n",
       "  </thead>\n",
       "  <tbody>\n",
       "    <tr>\n",
       "      <th>2003-01-01</th>\n",
       "      <td>0.005505</td>\n",
       "      <td>0.028476</td>\n",
       "      <td>0.000051</td>\n",
       "      <td>0.000051</td>\n",
       "      <td>1.0</td>\n",
       "      <td>211.59</td>\n",
       "    </tr>\n",
       "    <tr>\n",
       "      <th>2003-04-01</th>\n",
       "      <td>0.005155</td>\n",
       "      <td>0.027538</td>\n",
       "      <td>0.000044</td>\n",
       "      <td>0.000044</td>\n",
       "      <td>0.0</td>\n",
       "      <td>0.00</td>\n",
       "    </tr>\n",
       "    <tr>\n",
       "      <th>2003-07-01</th>\n",
       "      <td>0.004854</td>\n",
       "      <td>0.026700</td>\n",
       "      <td>0.000039</td>\n",
       "      <td>0.000039</td>\n",
       "      <td>0.0</td>\n",
       "      <td>0.00</td>\n",
       "    </tr>\n",
       "    <tr>\n",
       "      <th>2003-10-01</th>\n",
       "      <td>0.005283</td>\n",
       "      <td>0.025767</td>\n",
       "      <td>0.000044</td>\n",
       "      <td>0.000044</td>\n",
       "      <td>1.0</td>\n",
       "      <td>312.16</td>\n",
       "    </tr>\n",
       "    <tr>\n",
       "      <th>2004-01-01</th>\n",
       "      <td>0.005011</td>\n",
       "      <td>0.025063</td>\n",
       "      <td>0.000040</td>\n",
       "      <td>0.000040</td>\n",
       "      <td>0.0</td>\n",
       "      <td>0.00</td>\n",
       "    </tr>\n",
       "  </tbody>\n",
       "</table>\n",
       "</div>"
      ],
      "text/plain": [
       "             outdegree      katz  undirected_betweenness  \\\n",
       "QuarterYear                                                \n",
       "2003-01-01    0.005505  0.028476                0.000051   \n",
       "2003-04-01    0.005155  0.027538                0.000044   \n",
       "2003-07-01    0.004854  0.026700                0.000039   \n",
       "2003-10-01    0.005283  0.025767                0.000044   \n",
       "2004-01-01    0.005011  0.025063                0.000040   \n",
       "\n",
       "             undirected_Weighted_betweenness  Number of Deals  \\\n",
       "QuarterYear                                                     \n",
       "2003-01-01                          0.000051              1.0   \n",
       "2003-04-01                          0.000044              0.0   \n",
       "2003-07-01                          0.000039              0.0   \n",
       "2003-10-01                          0.000044              1.0   \n",
       "2004-01-01                          0.000040              0.0   \n",
       "\n",
       "             Total Deal Value  \n",
       "QuarterYear                    \n",
       "2003-01-01             211.59  \n",
       "2003-04-01               0.00  \n",
       "2003-07-01               0.00  \n",
       "2003-10-01             312.16  \n",
       "2004-01-01               0.00  "
      ]
     },
     "execution_count": 2,
     "metadata": {},
     "output_type": "execute_result"
    }
   ],
   "source": [
    "# Assuming the CSV file containing the data is named \"data.csv\"\n",
    "buyername = \"buyerIQ382553\"\n",
    "data = pd.read_csv('data/final_data/' + buyername + '.csv')\n",
    "data.index = pd.to_datetime(data['QuarterYear'])\n",
    "data = data.drop(columns=['node','QuarterYear'], axis=1)\n",
    "data.head()"
   ]
  },
  {
   "cell_type": "code",
   "execution_count": 3,
   "metadata": {},
   "outputs": [],
   "source": [
    "\n",
    "# Separate features and target\n",
    "X = data.iloc[:, :-2]  # Features (network metrics)\n",
    "y1 = data.iloc[:, -1]   # Target (value of deals)\n",
    "y2 = data.iloc[:, -2]   # Targert(number of deals)\n",
    "\n",
    "# Convert target to binary values (0 or 1)\n",
    "y_binary = np.where(y2 > 0, 1, 0)\n",
    "\n",
    "# Scale the features to a range between 0 and 1\n",
    "scaler = MinMaxScaler()\n",
    "X_scaled = scaler.fit_transform(X)\n"
   ]
  },
  {
   "cell_type": "code",
   "execution_count": 4,
   "metadata": {},
   "outputs": [],
   "source": [
    "# Assuming you have data from Q1 2010 to Q4 2022\n",
    "train_size = int(len(X_scaled) * 0.8)  # Use 80% of the data for training\n",
    "X_train, X_test = X_scaled[:train_size], X_scaled[train_size:]\n",
    "y_train, y_test = y_binary[:train_size], y_binary[train_size:]\n"
   ]
  },
  {
   "cell_type": "code",
   "execution_count": 5,
   "metadata": {},
   "outputs": [],
   "source": [
    "# Define the window size (number of previous quarters to consider)\n",
    "window_size = 4\n",
    "\n",
    "# Function to create sequences\n",
    "def create_sequences(X, y, window_size):\n",
    "    X_seq, y_seq = [], []\n",
    "    for i in range(len(X) - window_size):\n",
    "        X_seq.append(X[i:i+window_size])\n",
    "        y_seq.append(y[i+window_size])\n",
    "    return np.array(X_seq), np.array(y_seq)\n",
    "\n",
    "# Create sequences for training and testing data\n",
    "X_train_seq, y_train_seq = create_sequences(X_train, y_train, window_size)\n",
    "X_test_seq, y_test_seq = create_sequences(X_test, y_test, window_size)\n"
   ]
  },
  {
   "cell_type": "code",
   "execution_count": 6,
   "metadata": {},
   "outputs": [],
   "source": [
    "model = tf.keras.Sequential([\n",
    "    tf.keras.layers.LSTM(64, input_shape=(window_size, X_train_seq.shape[2])),\n",
    "    tf.keras.layers.Dense(32, activation='relu'),\n",
    "    tf.keras.layers.Dense(1, activation='sigmoid')  # Using sigmoid activation for binary classification\n",
    "])\n",
    "\n",
    "model.compile(loss='binary_crossentropy', optimizer='adam', metrics=['accuracy'])\n",
    "\n"
   ]
  },
  {
   "cell_type": "code",
   "execution_count": 7,
   "metadata": {},
   "outputs": [
    {
     "name": "stdout",
     "output_type": "stream",
     "text": [
      "Epoch 1/100\n",
      "3/3 [==============================] - 6s 649ms/step - loss: 0.6575 - accuracy: 0.7400 - val_loss: 0.6510 - val_accuracy: 0.8333\n",
      "Epoch 2/100\n",
      "3/3 [==============================] - 0s 33ms/step - loss: 0.6326 - accuracy: 0.7400 - val_loss: 0.6244 - val_accuracy: 0.8333\n",
      "Epoch 3/100\n",
      "3/3 [==============================] - 0s 41ms/step - loss: 0.6123 - accuracy: 0.7400 - val_loss: 0.5969 - val_accuracy: 0.8333\n",
      "Epoch 4/100\n",
      "3/3 [==============================] - 0s 40ms/step - loss: 0.5928 - accuracy: 0.7400 - val_loss: 0.5700 - val_accuracy: 0.8333\n",
      "Epoch 5/100\n",
      "3/3 [==============================] - 0s 42ms/step - loss: 0.5789 - accuracy: 0.7400 - val_loss: 0.5436 - val_accuracy: 0.8333\n",
      "Epoch 6/100\n",
      "3/3 [==============================] - 0s 38ms/step - loss: 0.5680 - accuracy: 0.7400 - val_loss: 0.5222 - val_accuracy: 0.8333\n",
      "Epoch 7/100\n",
      "3/3 [==============================] - 0s 41ms/step - loss: 0.5702 - accuracy: 0.7400 - val_loss: 0.5053 - val_accuracy: 0.8333\n",
      "Epoch 8/100\n",
      "3/3 [==============================] - 0s 35ms/step - loss: 0.5688 - accuracy: 0.7400 - val_loss: 0.4980 - val_accuracy: 0.8333\n",
      "Epoch 9/100\n",
      "3/3 [==============================] - 0s 36ms/step - loss: 0.5736 - accuracy: 0.7400 - val_loss: 0.4926 - val_accuracy: 0.8333\n",
      "Epoch 10/100\n",
      "3/3 [==============================] - 0s 34ms/step - loss: 0.5737 - accuracy: 0.7400 - val_loss: 0.4954 - val_accuracy: 0.8333\n",
      "Epoch 11/100\n",
      "3/3 [==============================] - 0s 38ms/step - loss: 0.5719 - accuracy: 0.7400 - val_loss: 0.4990 - val_accuracy: 0.8333\n",
      "Epoch 12/100\n",
      "3/3 [==============================] - 0s 37ms/step - loss: 0.5698 - accuracy: 0.7400 - val_loss: 0.5032 - val_accuracy: 0.8333\n",
      "Epoch 13/100\n",
      "3/3 [==============================] - 0s 39ms/step - loss: 0.5686 - accuracy: 0.7400 - val_loss: 0.5097 - val_accuracy: 0.8333\n",
      "Epoch 14/100\n",
      "3/3 [==============================] - 0s 49ms/step - loss: 0.5675 - accuracy: 0.7400 - val_loss: 0.5157 - val_accuracy: 0.8333\n",
      "Epoch 15/100\n",
      "3/3 [==============================] - 0s 40ms/step - loss: 0.5671 - accuracy: 0.7400 - val_loss: 0.5209 - val_accuracy: 0.8333\n",
      "Epoch 16/100\n",
      "3/3 [==============================] - 0s 42ms/step - loss: 0.5675 - accuracy: 0.7400 - val_loss: 0.5260 - val_accuracy: 0.8333\n",
      "Epoch 17/100\n",
      "3/3 [==============================] - 0s 39ms/step - loss: 0.5671 - accuracy: 0.7400 - val_loss: 0.5270 - val_accuracy: 0.8333\n",
      "Epoch 18/100\n",
      "3/3 [==============================] - 0s 34ms/step - loss: 0.5668 - accuracy: 0.7400 - val_loss: 0.5265 - val_accuracy: 0.8333\n",
      "Epoch 19/100\n",
      "3/3 [==============================] - 0s 40ms/step - loss: 0.5662 - accuracy: 0.7400 - val_loss: 0.5246 - val_accuracy: 0.8333\n",
      "Epoch 20/100\n",
      "3/3 [==============================] - 0s 38ms/step - loss: 0.5657 - accuracy: 0.7400 - val_loss: 0.5201 - val_accuracy: 0.8333\n",
      "Epoch 21/100\n",
      "3/3 [==============================] - 0s 38ms/step - loss: 0.5668 - accuracy: 0.7400 - val_loss: 0.5132 - val_accuracy: 0.8333\n",
      "Epoch 22/100\n",
      "3/3 [==============================] - 0s 38ms/step - loss: 0.5677 - accuracy: 0.7400 - val_loss: 0.5101 - val_accuracy: 0.8333\n",
      "Epoch 23/100\n",
      "3/3 [==============================] - 0s 35ms/step - loss: 0.5668 - accuracy: 0.7400 - val_loss: 0.5127 - val_accuracy: 0.8333\n",
      "Epoch 24/100\n",
      "3/3 [==============================] - 0s 38ms/step - loss: 0.5664 - accuracy: 0.7400 - val_loss: 0.5180 - val_accuracy: 0.8333\n",
      "Epoch 25/100\n",
      "3/3 [==============================] - 0s 38ms/step - loss: 0.5651 - accuracy: 0.7400 - val_loss: 0.5239 - val_accuracy: 0.8333\n",
      "Epoch 26/100\n",
      "3/3 [==============================] - 0s 37ms/step - loss: 0.5645 - accuracy: 0.7400 - val_loss: 0.5286 - val_accuracy: 0.8333\n",
      "Epoch 27/100\n",
      "3/3 [==============================] - 0s 35ms/step - loss: 0.5640 - accuracy: 0.7400 - val_loss: 0.5328 - val_accuracy: 0.8333\n",
      "Epoch 28/100\n",
      "3/3 [==============================] - 0s 32ms/step - loss: 0.5642 - accuracy: 0.7400 - val_loss: 0.5369 - val_accuracy: 0.8333\n",
      "Epoch 29/100\n",
      "3/3 [==============================] - 0s 33ms/step - loss: 0.5641 - accuracy: 0.7400 - val_loss: 0.5389 - val_accuracy: 0.8333\n",
      "Epoch 30/100\n",
      "3/3 [==============================] - 0s 35ms/step - loss: 0.5640 - accuracy: 0.7400 - val_loss: 0.5392 - val_accuracy: 0.8333\n",
      "Epoch 31/100\n",
      "3/3 [==============================] - 0s 33ms/step - loss: 0.5631 - accuracy: 0.7400 - val_loss: 0.5359 - val_accuracy: 0.8333\n",
      "Epoch 32/100\n",
      "3/3 [==============================] - 0s 31ms/step - loss: 0.5624 - accuracy: 0.7400 - val_loss: 0.5338 - val_accuracy: 0.8333\n",
      "Epoch 33/100\n",
      "3/3 [==============================] - 0s 32ms/step - loss: 0.5623 - accuracy: 0.7400 - val_loss: 0.5325 - val_accuracy: 0.8333\n",
      "Epoch 34/100\n",
      "3/3 [==============================] - 0s 34ms/step - loss: 0.5613 - accuracy: 0.7400 - val_loss: 0.5331 - val_accuracy: 0.8333\n",
      "Epoch 35/100\n",
      "3/3 [==============================] - 0s 31ms/step - loss: 0.5612 - accuracy: 0.7400 - val_loss: 0.5346 - val_accuracy: 0.8333\n",
      "Epoch 36/100\n",
      "3/3 [==============================] - 0s 35ms/step - loss: 0.5615 - accuracy: 0.7400 - val_loss: 0.5337 - val_accuracy: 0.8333\n",
      "Epoch 37/100\n",
      "3/3 [==============================] - 0s 29ms/step - loss: 0.5601 - accuracy: 0.7400 - val_loss: 0.5374 - val_accuracy: 0.8333\n",
      "Epoch 38/100\n",
      "3/3 [==============================] - 0s 30ms/step - loss: 0.5598 - accuracy: 0.7400 - val_loss: 0.5406 - val_accuracy: 0.8333\n",
      "Epoch 39/100\n",
      "3/3 [==============================] - 0s 31ms/step - loss: 0.5596 - accuracy: 0.7400 - val_loss: 0.5422 - val_accuracy: 0.8333\n",
      "Epoch 40/100\n",
      "3/3 [==============================] - 0s 35ms/step - loss: 0.5587 - accuracy: 0.7400 - val_loss: 0.5404 - val_accuracy: 0.8333\n",
      "Epoch 41/100\n",
      "3/3 [==============================] - 0s 28ms/step - loss: 0.5580 - accuracy: 0.7400 - val_loss: 0.5384 - val_accuracy: 0.8333\n",
      "Epoch 42/100\n",
      "3/3 [==============================] - 0s 32ms/step - loss: 0.5576 - accuracy: 0.7400 - val_loss: 0.5368 - val_accuracy: 0.8333\n",
      "Epoch 43/100\n",
      "3/3 [==============================] - 0s 34ms/step - loss: 0.5575 - accuracy: 0.7400 - val_loss: 0.5375 - val_accuracy: 0.8333\n",
      "Epoch 44/100\n",
      "3/3 [==============================] - 0s 34ms/step - loss: 0.5562 - accuracy: 0.7400 - val_loss: 0.5365 - val_accuracy: 0.8333\n",
      "Epoch 45/100\n",
      "3/3 [==============================] - 0s 29ms/step - loss: 0.5562 - accuracy: 0.7400 - val_loss: 0.5370 - val_accuracy: 0.8333\n",
      "Epoch 46/100\n",
      "3/3 [==============================] - 0s 32ms/step - loss: 0.5566 - accuracy: 0.7400 - val_loss: 0.5346 - val_accuracy: 0.8333\n",
      "Epoch 47/100\n",
      "3/3 [==============================] - 0s 33ms/step - loss: 0.5545 - accuracy: 0.7400 - val_loss: 0.5365 - val_accuracy: 0.8333\n",
      "Epoch 48/100\n",
      "3/3 [==============================] - 0s 33ms/step - loss: 0.5546 - accuracy: 0.7400 - val_loss: 0.5415 - val_accuracy: 0.8333\n",
      "Epoch 49/100\n",
      "3/3 [==============================] - 0s 31ms/step - loss: 0.5534 - accuracy: 0.7400 - val_loss: 0.5452 - val_accuracy: 0.8333\n",
      "Epoch 50/100\n",
      "3/3 [==============================] - 0s 37ms/step - loss: 0.5517 - accuracy: 0.7400 - val_loss: 0.5511 - val_accuracy: 0.8333\n",
      "Epoch 51/100\n",
      "3/3 [==============================] - 0s 38ms/step - loss: 0.5512 - accuracy: 0.7400 - val_loss: 0.5534 - val_accuracy: 0.8333\n",
      "Epoch 52/100\n",
      "3/3 [==============================] - 0s 35ms/step - loss: 0.5513 - accuracy: 0.7400 - val_loss: 0.5527 - val_accuracy: 0.8333\n",
      "Epoch 53/100\n",
      "3/3 [==============================] - 0s 36ms/step - loss: 0.5493 - accuracy: 0.7400 - val_loss: 0.5496 - val_accuracy: 0.8333\n",
      "Epoch 54/100\n",
      "3/3 [==============================] - 0s 34ms/step - loss: 0.5481 - accuracy: 0.7400 - val_loss: 0.5465 - val_accuracy: 0.8333\n",
      "Epoch 55/100\n",
      "3/3 [==============================] - 0s 34ms/step - loss: 0.5487 - accuracy: 0.7400 - val_loss: 0.5447 - val_accuracy: 0.8333\n",
      "Epoch 56/100\n",
      "3/3 [==============================] - 0s 33ms/step - loss: 0.5494 - accuracy: 0.7400 - val_loss: 0.5399 - val_accuracy: 0.8333\n",
      "Epoch 57/100\n",
      "3/3 [==============================] - 0s 35ms/step - loss: 0.5444 - accuracy: 0.7400 - val_loss: 0.5424 - val_accuracy: 0.8333\n",
      "Epoch 58/100\n",
      "3/3 [==============================] - 0s 34ms/step - loss: 0.5429 - accuracy: 0.7400 - val_loss: 0.5446 - val_accuracy: 0.8333\n",
      "Epoch 59/100\n",
      "3/3 [==============================] - 0s 32ms/step - loss: 0.5412 - accuracy: 0.7400 - val_loss: 0.5450 - val_accuracy: 0.8333\n",
      "Epoch 60/100\n",
      "3/3 [==============================] - 0s 31ms/step - loss: 0.5392 - accuracy: 0.7400 - val_loss: 0.5470 - val_accuracy: 0.8333\n",
      "Epoch 61/100\n",
      "3/3 [==============================] - 0s 33ms/step - loss: 0.5375 - accuracy: 0.7400 - val_loss: 0.5467 - val_accuracy: 0.8333\n",
      "Epoch 62/100\n",
      "3/3 [==============================] - 0s 37ms/step - loss: 0.5357 - accuracy: 0.7400 - val_loss: 0.5519 - val_accuracy: 0.8333\n",
      "Epoch 63/100\n",
      "3/3 [==============================] - 0s 33ms/step - loss: 0.5339 - accuracy: 0.7400 - val_loss: 0.5532 - val_accuracy: 0.8333\n",
      "Epoch 64/100\n",
      "3/3 [==============================] - 0s 31ms/step - loss: 0.5326 - accuracy: 0.7400 - val_loss: 0.5540 - val_accuracy: 0.8333\n",
      "Epoch 65/100\n",
      "3/3 [==============================] - 0s 28ms/step - loss: 0.5313 - accuracy: 0.7400 - val_loss: 0.5517 - val_accuracy: 0.8333\n",
      "Epoch 66/100\n",
      "3/3 [==============================] - 0s 29ms/step - loss: 0.5329 - accuracy: 0.7400 - val_loss: 0.5540 - val_accuracy: 0.8333\n",
      "Epoch 67/100\n",
      "3/3 [==============================] - 0s 29ms/step - loss: 0.5280 - accuracy: 0.7400 - val_loss: 0.5465 - val_accuracy: 0.8333\n",
      "Epoch 68/100\n",
      "3/3 [==============================] - 0s 29ms/step - loss: 0.5273 - accuracy: 0.7400 - val_loss: 0.5441 - val_accuracy: 0.8333\n",
      "Epoch 69/100\n",
      "3/3 [==============================] - 0s 33ms/step - loss: 0.5247 - accuracy: 0.7400 - val_loss: 0.5466 - val_accuracy: 0.8333\n",
      "Epoch 70/100\n",
      "3/3 [==============================] - 0s 31ms/step - loss: 0.5233 - accuracy: 0.7400 - val_loss: 0.5519 - val_accuracy: 0.8333\n",
      "Epoch 71/100\n",
      "3/3 [==============================] - 0s 35ms/step - loss: 0.5206 - accuracy: 0.7400 - val_loss: 0.5536 - val_accuracy: 0.8333\n",
      "Epoch 72/100\n",
      "3/3 [==============================] - 0s 49ms/step - loss: 0.5209 - accuracy: 0.7400 - val_loss: 0.5565 - val_accuracy: 0.8333\n",
      "Epoch 73/100\n",
      "3/3 [==============================] - 0s 28ms/step - loss: 0.5171 - accuracy: 0.7400 - val_loss: 0.5515 - val_accuracy: 0.8333\n",
      "Epoch 74/100\n",
      "3/3 [==============================] - 0s 34ms/step - loss: 0.5209 - accuracy: 0.7400 - val_loss: 0.5464 - val_accuracy: 0.8333\n",
      "Epoch 75/100\n",
      "3/3 [==============================] - 0s 35ms/step - loss: 0.5120 - accuracy: 0.7400 - val_loss: 0.5487 - val_accuracy: 0.8333\n",
      "Epoch 76/100\n",
      "3/3 [==============================] - 0s 32ms/step - loss: 0.5140 - accuracy: 0.7400 - val_loss: 0.5465 - val_accuracy: 0.8333\n",
      "Epoch 77/100\n",
      "3/3 [==============================] - 0s 29ms/step - loss: 0.5152 - accuracy: 0.7400 - val_loss: 0.5388 - val_accuracy: 0.8333\n",
      "Epoch 78/100\n",
      "3/3 [==============================] - 0s 35ms/step - loss: 0.5085 - accuracy: 0.7400 - val_loss: 0.5228 - val_accuracy: 0.8333\n",
      "Epoch 79/100\n",
      "3/3 [==============================] - 0s 32ms/step - loss: 0.5071 - accuracy: 0.7400 - val_loss: 0.5090 - val_accuracy: 0.8333\n",
      "Epoch 80/100\n",
      "3/3 [==============================] - 0s 33ms/step - loss: 0.5091 - accuracy: 0.7400 - val_loss: 0.5061 - val_accuracy: 0.8333\n",
      "Epoch 81/100\n",
      "3/3 [==============================] - 0s 36ms/step - loss: 0.5067 - accuracy: 0.7400 - val_loss: 0.5048 - val_accuracy: 0.8333\n",
      "Epoch 82/100\n",
      "3/3 [==============================] - 0s 32ms/step - loss: 0.5013 - accuracy: 0.7400 - val_loss: 0.5087 - val_accuracy: 0.8333\n",
      "Epoch 83/100\n",
      "3/3 [==============================] - 0s 30ms/step - loss: 0.4993 - accuracy: 0.7400 - val_loss: 0.5138 - val_accuracy: 0.8333\n",
      "Epoch 84/100\n",
      "3/3 [==============================] - 0s 33ms/step - loss: 0.4996 - accuracy: 0.7400 - val_loss: 0.5141 - val_accuracy: 0.8333\n",
      "Epoch 85/100\n",
      "3/3 [==============================] - 0s 33ms/step - loss: 0.4977 - accuracy: 0.7400 - val_loss: 0.5124 - val_accuracy: 0.8333\n",
      "Epoch 86/100\n",
      "3/3 [==============================] - 0s 33ms/step - loss: 0.4985 - accuracy: 0.7400 - val_loss: 0.5033 - val_accuracy: 0.8333\n",
      "Epoch 87/100\n",
      "3/3 [==============================] - 0s 30ms/step - loss: 0.4914 - accuracy: 0.7400 - val_loss: 0.4853 - val_accuracy: 0.8333\n",
      "Epoch 88/100\n",
      "3/3 [==============================] - 0s 32ms/step - loss: 0.4911 - accuracy: 0.7400 - val_loss: 0.4731 - val_accuracy: 0.8333\n",
      "Epoch 89/100\n",
      "3/3 [==============================] - 0s 31ms/step - loss: 0.4958 - accuracy: 0.7400 - val_loss: 0.4645 - val_accuracy: 0.8333\n",
      "Epoch 90/100\n",
      "3/3 [==============================] - 0s 31ms/step - loss: 0.4910 - accuracy: 0.7400 - val_loss: 0.4602 - val_accuracy: 0.8333\n",
      "Epoch 91/100\n",
      "3/3 [==============================] - 0s 31ms/step - loss: 0.4857 - accuracy: 0.7400 - val_loss: 0.4589 - val_accuracy: 0.8333\n",
      "Epoch 92/100\n",
      "3/3 [==============================] - 0s 30ms/step - loss: 0.4825 - accuracy: 0.7400 - val_loss: 0.4608 - val_accuracy: 0.8333\n",
      "Epoch 93/100\n",
      "3/3 [==============================] - 0s 33ms/step - loss: 0.4753 - accuracy: 0.7400 - val_loss: 0.4631 - val_accuracy: 0.8333\n",
      "Epoch 94/100\n",
      "3/3 [==============================] - 0s 31ms/step - loss: 0.4751 - accuracy: 0.7400 - val_loss: 0.4614 - val_accuracy: 0.8333\n",
      "Epoch 95/100\n",
      "3/3 [==============================] - 0s 37ms/step - loss: 0.4762 - accuracy: 0.7400 - val_loss: 0.4591 - val_accuracy: 0.8333\n",
      "Epoch 96/100\n",
      "3/3 [==============================] - 0s 30ms/step - loss: 0.4712 - accuracy: 0.7400 - val_loss: 0.4551 - val_accuracy: 0.8333\n",
      "Epoch 97/100\n",
      "3/3 [==============================] - 0s 32ms/step - loss: 0.4690 - accuracy: 0.7400 - val_loss: 0.4569 - val_accuracy: 0.8333\n",
      "Epoch 98/100\n",
      "3/3 [==============================] - 0s 31ms/step - loss: 0.4639 - accuracy: 0.7400 - val_loss: 0.4570 - val_accuracy: 0.8333\n",
      "Epoch 99/100\n",
      "3/3 [==============================] - 0s 31ms/step - loss: 0.4625 - accuracy: 0.7400 - val_loss: 0.4574 - val_accuracy: 0.8333\n",
      "Epoch 100/100\n",
      "3/3 [==============================] - 0s 34ms/step - loss: 0.4568 - accuracy: 0.7400 - val_loss: 0.4617 - val_accuracy: 0.8333\n"
     ]
    }
   ],
   "source": [
    "# Assuming you have 50 epochs and a batch size of 32\n",
    "epochs = 100\n",
    "batch_size = 20\n",
    "\n",
    "history = model.fit(X_train_seq, y_train_seq, epochs=epochs, batch_size=batch_size, validation_split=0.1)\n"
   ]
  },
  {
   "cell_type": "code",
   "execution_count": 8,
   "metadata": {},
   "outputs": [
    {
     "name": "stdout",
     "output_type": "stream",
     "text": [
      "1/1 [==============================] - 0s 51ms/step - loss: 1.1851 - accuracy: 0.5833\n",
      "Test loss: 1.1851\n",
      "Test accuracy: 0.5833\n"
     ]
    }
   ],
   "source": [
    "# Evaluate the model on the test set\n",
    "loss, accuracy = model.evaluate(X_test_seq, y_test_seq)\n",
    "\n",
    "print(f'Test loss: {loss:.4f}')\n",
    "print(f'Test accuracy: {accuracy:.4f}')\n"
   ]
  },
  {
   "cell_type": "code",
   "execution_count": 9,
   "metadata": {},
   "outputs": [
    {
     "data": {
      "image/png": "[encoded data removed]",
      "text/plain": [
       "<Figure size 640x480 with 1 Axes>"
      ]
     },
     "metadata": {},
     "output_type": "display_data"
    },
    {
     "data": {
      "image/png": "[encoded data removed]",
      "text/plain": [
       "<Figure size 640x480 with 1 Axes>"
      ]
     },
     "metadata": {},
     "output_type": "display_data"
    }
   ],
   "source": [
    "import matplotlib.pyplot as plt\n",
    "\n",
    "# Plot training and validation loss\n",
    "plt.plot(history.history['loss'], label='Training Loss')\n",
    "plt.plot(history.history['val_loss'], label='Validation Loss')\n",
    "plt.axhline(y=loss, color= 'g', label = 'Testing Loss')\n",
    "plt.title(\"Loss chart: \" + buyername)\n",
    "plt.xlabel('Epoch')\n",
    "plt.ylabel('Loss')\n",
    "plt.legend()\n",
    "plt.savefig('data/plots/loss_chart_' + buyername + '.png')\n",
    "plt.show()\n",
    "\n",
    "\n",
    "# Plot training and validation accuracy\n",
    "plt.plot(history.history['accuracy'], label='Training Accuracy')\n",
    "plt.plot(history.history['val_accuracy'], label='Validation Accuracy')\n",
    "plt.axhline(y=accuracy, color='g', label = 'Testing Accuracy')\n",
    "plt.title(\"Accuracy chart: \"+ buyername)\n",
    "plt.xlabel('Epoch')\n",
    "plt.ylabel('Accuracy')\n",
    "plt.legend()\n",
    "plt.savefig('data/plots/accuracy_chart_'+ buyername+  '.png')\n",
    "plt.show()\n",
    "\n"
   ]
  },
  {
   "cell_type": "code",
   "execution_count": 10,
   "metadata": {},
   "outputs": [
    {
     "name": "stdout",
     "output_type": "stream",
     "text": [
      "1/1 [==============================] - 1s 782ms/step\n"
     ]
    }
   ],
   "source": [
    "y_pred_test = model.predict(X_test_seq)"
   ]
  },
  {
   "cell_type": "code",
   "execution_count": 11,
   "metadata": {},
   "outputs": [],
   "source": [
    "y_pred_labels = np.argmax(y_pred_test, axis=-1)"
   ]
  },
  {
   "cell_type": "code",
   "execution_count": 12,
   "metadata": {},
   "outputs": [
    {
     "name": "stdout",
     "output_type": "stream",
     "text": [
      "Confusion Matrix:\n",
      "[[7 0]\n",
      " [5 0]]\n"
     ]
    }
   ],
   "source": [
    "from sklearn.metrics import confusion_matrix, ConfusionMatrixDisplay\n",
    "# Now, calculate the confusion matrix\n",
    "cm = confusion_matrix(y_test_seq, y_pred_labels)\n",
    "\n",
    "print(\"Confusion Matrix:\")\n",
    "print(cm)"
   ]
  },
  {
   "cell_type": "code",
   "execution_count": 13,
   "metadata": {},
   "outputs": [
    {
     "name": "stdout",
     "output_type": "stream",
     "text": [
      "[1 0 1 1 0 0 0 1 0 0 0 1]\n",
      "[0 0 0 0 0 0 0 0 0 0 0 0]\n"
     ]
    }
   ],
   "source": [
    "print(y_test_seq)\n",
    "print(y_pred_labels)"
   ]
  },
  {
   "cell_type": "code",
   "execution_count": 14,
   "metadata": {},
   "outputs": [
    {
     "data": {
      "image/png": "[encoded data removed]",
      "text/plain": [
       "<Figure size 640x480 with 2 Axes>"
      ]
     },
     "metadata": {},
     "output_type": "display_data"
    }
   ],
   "source": [
    "ConfusionMatrixDisplay(cm).plot()\n",
    "plt.savefig('data/plots/cm_' + buyername + '.png')"
   ]
  },
  {
   "cell_type": "code",
   "execution_count": null,
   "metadata": {},
   "outputs": [],
   "source": []
  }
 ],
 "metadata": {
  "kernelspec": {
   "display_name": "seminarEnv",
   "language": "python",
   "name": "python3"
  },
  "language_info": {
   "codemirror_mode": {
    "name": "ipython",
    "version": 3
   },
   "file_extension": ".py",
   "mimetype": "text/x-python",
   "name": "python",
   "nbconvert_exporter": "python",
   "pygments_lexer": "ipython3",
   "version": "3.10.0"
  },
  "orig_nbformat": 4
 },
 "nbformat": 4,
 "nbformat_minor": 2
}
